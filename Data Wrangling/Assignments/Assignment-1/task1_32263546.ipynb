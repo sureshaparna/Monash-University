{
 "cells": [
  {
   "cell_type": "markdown",
   "metadata": {
    "id": "ZgR2H1BmC0D_"
   },
   "source": [
    "**TASK - 1**"
   ]
  },
  {
   "cell_type": "markdown",
   "metadata": {
    "id": "kqLsRkVfCvpI"
   },
   "source": [
    "**Parsing Text Files**"
   ]
  },
  {
   "cell_type": "markdown",
   "metadata": {
    "id": "LZBpuQAPUr4g"
   },
   "source": [
    "\n",
    "Regular expressions are expressions that checks if a set of strings match it. Every string has a regular expression and by using them, you can see if the text matches a particular string. Regular expressions are used as the term \"re\" in python. In this task, we shall see how regular expressions can help us retrieve only the required strings from the the documents.\n",
    "\n"
   ]
  },
  {
   "cell_type": "markdown",
   "metadata": {
    "id": "GUVp5SI4xcdj"
   },
   "source": [
    "Importing all the required libraries which are re and os"
   ]
  },
  {
   "cell_type": "code",
   "execution_count": 12,
   "metadata": {
    "id": "mSVXN6SIUt6m"
   },
   "outputs": [],
   "source": [
    "from google.colab import drive\n",
    "import os\n",
    "import re"
   ]
  },
  {
   "cell_type": "markdown",
   "metadata": {
    "id": "aJqNPpElymWb"
   },
   "source": [
    "XML files are used to store the data in a particular order using the help of tags. By this we can define in what order we want to store the data and passed over the internet. In this case, the username, latest review date, product ID, review date, review helpful, review text and the review summary. The resulting XML file can be opened through a web browser application or a text file depending on what format yu want it to be.\n",
    "\n"
   ]
  },
  {
   "cell_type": "markdown",
   "metadata": {
    "id": "dZy_I2IHuo7G"
   },
   "source": [
    "Defining the required Body structures for the XML file that is to be generated. The asked format is:\n",
    "\n",
    "\n",
    "*   users : for all the users\n",
    "*   user: for all the reviews of a particular user that includes latest review date, and username \n",
    "*   reviews: for all the reviews of a specific user\n",
    "*   review: for each user's product ID, review date, helpful, text, and summary of the user review\n",
    "\n"
   ]
  },
  {
   "cell_type": "code",
   "execution_count": 13,
   "metadata": {
    "id": "6O1U2Oykun1_"
   },
   "outputs": [],
   "source": [
    "\n",
    "xml_body = '''<users>\n",
    "{}\n",
    "</users>'''\n",
    "\n",
    "user_body = '''<user name = \"{}\">\n",
    "<latest_review_date>{}</latest_review_date>\n",
    "<reviews>\n",
    "{}\n",
    "</reviews>\n",
    "</user>'''\n",
    "\n",
    "review_body = '''<review> \n",
    "<productID>{}</productID>\n",
    "<review_date>{}</review_date>\n",
    "<review_helpful>{}</review_helpful>\n",
    "<review_text>{}</review_text>\n",
    "<review_summary>{}</review_summary>\n",
    "</review>'''"
   ]
  },
  {
   "cell_type": "markdown",
   "metadata": {
    "id": "VkLFpuSX0ZW-"
   },
   "source": [
    "Here, the XML body structure is defined as how we want the end result file to look like. The next step is to make changes to the data so as to write it into an XML file."
   ]
  },
  {
   "cell_type": "markdown",
   "metadata": {
    "id": "zMHVaFhTuTAo"
   },
   "source": [
    "The function 'userdata' is for cleaning the data into the required format. In the given input file, each subheading of the review like review_id, product_id, etc are starting with a \"\\$\" symbol. So in order to split the texts, we use '$' to split the data by which we get the categories separately.\n",
    "Next step is to use the re for the Review block which includes variables - rev_id, product_id, review_date, helpful, review_text, review_summary. Based on this, we split the variables and contents further into separate entities as the variable and its corresponding context.\n",
    "One task that was mentioned was to handle the special characters. So we use 're' to match special characters and then replace it accordingly. \n",
    "Finally, the function retruns the rev_id, review_main_body and review_date for the review block of the XML file."
   ]
  },
  {
   "cell_type": "code",
   "execution_count": 14,
   "metadata": {
    "id": "EpuqcpqfwnW2"
   },
   "outputs": [],
   "source": [
    "def userdata(main_data):\n",
    "#splitting the phrase with respect to '$' \n",
    "  product_info = main_data.split(\"$\")\n",
    "  product_info[:] = [i for i in product_info if i != '']\n",
    "\n",
    "#using re for the review block which includes rev_id, product_id, review_date, helpful, review_text, review_summary\n",
    "\n",
    "  for info in product_info:\n",
    "    if re.match(\"rev\\w*[_]*[\\.]*ID\", info, flags = re.IGNORECASE):\n",
    "      rev_id = info.split(\":\")[1].strip()\n",
    "    elif re.match(\"prod\\w*[_]*[\\.]*ID\", info, flags = re.IGNORECASE):\n",
    "      product_id = info.split(\":\",1)[1].strip()\n",
    "    elif re.match(\"\\w*date\", info, flags = re.IGNORECASE):\n",
    "      review_date = info.split(\":\", 1)[1].strip()\n",
    "    elif re.match(\"\\w*\\.*[ ]*help\", info, flags = re.IGNORECASE):\n",
    "      review_helpful = info.split(\":\",1)[1].strip()\n",
    "      \n",
    "      #handling special characters in the data\n",
    "    elif re.match(\"\\w*[_]*[ ]*summary\", info, flags = re.IGNORECASE):\n",
    "      review_summary = info.split(\":\",1)[1].strip().replace('&', '&amp;').replace('<', '&lt;').replace('>', '&gt;').replace('\\n', '')\n",
    "    elif re.match(\"REVIEW\", info, flags = re.IGNORECASE):\n",
    "      review_text = info.split(\":\",1)[1].strip().replace('&', '&amp;').replace('<', '&lt;').replace('>', '&gt;').replace('\\n', '')\n",
    "\n",
    " \n",
    "      \n",
    "  review_main_body = review_body.format(product_id, review_date, review_helpful, review_text, review_summary)\n",
    "  return rev_id, review_main_body, review_date\n"
   ]
  },
  {
   "cell_type": "markdown",
   "metadata": {
    "id": "mPy7F1EwxO7-"
   },
   "source": [
    "We are creating a file in which we will be writing the contents of the input text. "
   ]
  },
  {
   "cell_type": "code",
   "execution_count": 15,
   "metadata": {
    "id": "ciRVCNidS-K-"
   },
   "outputs": [],
   "source": [
    "def writexml(xml_all_user):\n",
    "  with open(location1, 'w') as f:\n",
    "    f.write(xml_body.format(xml_all_user))\n",
    "    f.close()"
   ]
  },
  {
   "cell_type": "markdown",
   "metadata": {
    "id": "OCcOUJ4q6sSn"
   },
   "source": [
    "Mounting the drive to the colab to access the data from the drive\n"
   ]
  },
  {
   "cell_type": "code",
   "execution_count": null,
   "metadata": {
    "id": "UeWEO3UKmS-p"
   },
   "outputs": [],
   "source": [
    "\n",
    "#mounting the drive to access the contents of the drive\n",
    "drive.mount('/content/drive/')"
   ]
  },
  {
   "cell_type": "markdown",
   "metadata": {
    "id": "Wwcn0TcB63wz"
   },
   "source": [
    "To access the data from the drive, the variable \"location\" has been defined. The variable \"location\" has the location of the input data  "
   ]
  },
  {
   "cell_type": "code",
   "execution_count": 17,
   "metadata": {
    "id": "JhoPiy_6uaJS"
   },
   "outputs": [],
   "source": [
    "location = \"/content/drive/Shareddrives/FIT5196-s1-2022/A1/Task1/input_data/32263546/\""
   ]
  },
  {
   "cell_type": "markdown",
   "metadata": {
    "id": "Ue_bu9gT7Ed3"
   },
   "source": [
    "The location1 variable shows where the XML file should be written"
   ]
  },
  {
   "cell_type": "code",
   "execution_count": 18,
   "metadata": {
    "id": "Jm_YNTqiWdSS"
   },
   "outputs": [],
   "source": [
    "location1 = \"/content/drive/MyDrive/dw_assignment1_output/32263546.xml\""
   ]
  },
  {
   "cell_type": "markdown",
   "metadata": {
    "id": "NWQ4BMmcxrcP"
   },
   "source": [
    "Accessing all the 40 files inside the input folder of the student\n",
    "\n",
    "\n"
   ]
  },
  {
   "cell_type": "code",
   "execution_count": null,
   "metadata": {
    "id": "6_KEYJI7T3ic"
   },
   "outputs": [],
   "source": [
    "#printing all the files inside the input folder\n",
    "l = os.path.dirname(location)\n",
    "list_of_files = os.listdir(l)\n",
    "print(list_of_files)\n",
    "print(type(list_of_files))"
   ]
  },
  {
   "cell_type": "markdown",
   "metadata": {
    "id": "9lz9bvwIyChW"
   },
   "source": [
    "Reading all the files from the student input folder and appending it to a variable named 'data'."
   ]
  },
  {
   "cell_type": "code",
   "execution_count": 20,
   "metadata": {
    "id": "2yIXZCsF8i5j"
   },
   "outputs": [],
   "source": [
    "data = \"\"\n",
    "for files in list_of_files:\n",
    "    f = open(location + files)\n",
    "    data = data + f.read()\n",
    "    f.close()\n"
   ]
  },
  {
   "cell_type": "markdown",
   "metadata": {
    "id": "YRd62jVgyQmp"
   },
   "source": [
    "Splitting the data into required format  and making it into a list"
   ]
  },
  {
   "cell_type": "code",
   "execution_count": 21,
   "metadata": {
    "id": "beJg4u5S_1HU"
   },
   "outputs": [],
   "source": [
    "#splitting the data into the required chunks \n",
    "data_list = re.split('(\\$rev\\w*[_]*[\\.]*ID)',  data)\n",
    "data_list[:] = [i for i in data_list if i != '']"
   ]
  },
  {
   "cell_type": "markdown",
   "metadata": {
    "id": "dF0mOtGZyb66"
   },
   "source": [
    "An empty dictionary 'xml_dict' is made for the reviews of each user. Since one user can have multiple reviews, this dictionary stores all the reviews of each user. The key of the dictionary will be the username and the value will have all the reviews given by that key user. The reviews are passed through the usersata function to get cleaned review of desirable format. There can also be new reviews for the user. So appending those reviews into the corresponding user's values. \n",
    "Although there are other ways to do this, re and os has been used because of the library criteria mentioned.\n",
    "Once this is done, values of the latest review date is retrieved. The retrieved date is checked for the year. If the date in the dictionary is greater than the newly retrieved date, pass. If the year in the dictionary  is less than the one in the newly retrieved data, then the newly retrieved date is assigned to the one in the dictionary. But if the year is equal, then the month is checked. \n",
    "Finally, the dictionary is passed into a specific format so as to write it into an XML file. \n"
   ]
  },
  {
   "cell_type": "code",
   "execution_count": 22,
   "metadata": {
    "id": "XnFG_2mGi7Vn"
   },
   "outputs": [],
   "source": [
    "#creating a dictionary for the reviews for each user as there can be multiple reviews for a user. key = username, value = list of reviews\n",
    "xml_dict = {}\n",
    "for i in range(0, len(data_list)-1):\n",
    "\n",
    "  #passing the value though userdata to get cleaned value of each review\n",
    "  if(i%2 == 0):\n",
    "    main_data = data_list[i] + data_list[i+1]\n",
    "    user, xml_review, xml_date = userdata(main_data)\n",
    "\n",
    "    #appending the new reviews into the existing reviews of the corresponding user\n",
    "    if user in xml_dict:\n",
    "      xml_dict[user][\"reviews\"].append(xml_review)\n",
    "    else:\n",
    "      xml_dict[user] = {\"reviews\": [xml_review], \"latest_date\":xml_date}\n",
    "    \n",
    "    #retrieveing the values of the latest review date \n",
    "    #checking the year\n",
    "    if(int(xml_dict[user][\"latest_date\"].split(\" \")[-1]) > int(xml_date.split(\" \")[-1])):\n",
    "      pass\n",
    "    elif(int(xml_dict[user][\"latest_date\"].split(\" \")[-1]) == int(xml_date.split(\" \")[-1])):\n",
    "      if(int(xml_dict[user][\"latest_date\"].split(\" \")[0]) > int(xml_date.split(\" \")[0])):\n",
    "        pass\n",
    "      if(int(xml_dict[user][\"latest_date\"].split(\" \")[0]) < int(xml_date.split(\" \")[0])):\n",
    "        xml_dict[user][\"latest_date\"] = xml_date\n",
    "    else:\n",
    "      xml_dict[user][\"latest_date\"] = xml_date\n",
    "\n",
    "#passing the dcitionary into a specific format to write it to a file.\n",
    "xml_all_user = \"\"\n",
    "for user, user_dict in xml_dict.items():\n",
    "  xml_all_user = xml_all_user + \"\\n\" + user_body.format(user, user_dict[\"latest_date\"], \"\\n\".join(user_dict[\"reviews\"]))\n",
    "\n",
    "writexml(xml_all_user.strip())"
   ]
  },
  {
   "cell_type": "markdown",
   "metadata": {
    "id": "Ieg4GAe489Ed"
   },
   "source": [
    "Thus the text files are parsed and the desired XML file has been generated using re and os."
   ]
  }
 ],
 "metadata": {
  "colab": {
   "collapsed_sections": [],
   "name": "task1_32263546.ipynb",
   "provenance": []
  },
  "kernelspec": {
   "display_name": "Python 3",
   "language": "python",
   "name": "python3"
  },
  "language_info": {
   "codemirror_mode": {
    "name": "ipython",
    "version": 3
   },
   "file_extension": ".py",
   "mimetype": "text/x-python",
   "name": "python",
   "nbconvert_exporter": "python",
   "pygments_lexer": "ipython3",
   "version": "3.8.8"
  }
 },
 "nbformat": 4,
 "nbformat_minor": 1
}
