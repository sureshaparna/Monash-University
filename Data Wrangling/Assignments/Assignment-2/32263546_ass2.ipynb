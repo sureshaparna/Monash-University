{
 "cells": [
  {
   "cell_type": "markdown",
   "metadata": {
    "id": "5Ek3PPxBKKz5"
   },
   "source": [
    "There comes multiple challenges that comes along with the data. There are many errors that needs correction as a part of the wrangling process to make it usable for the analysis. Syntactic, semantic and missing values play a huge role in the data. The data is considered error free when these errors are solved. Syntactic errors are the ones that are the outlines or format errors that represent the structure. Semantic errors owe to the errors in the logic that can lead to mistakes in the output. There can be a huge size of data and it is not mandatory that all the values should be present. There is a possibility of the values to be missing. One solution for this is to remove the missing values, but removing them can lead to loss of data which we cannot afford losing. To solve these, errors Exploratory Data Analysis and wrangling is done to achieve the desired usable data. This assignment will walk us through the required EDA to get an error free data. \n",
    "\n",
    "There are four datasets that are given for this assignment - dirty_data, outlier_data, missing_data and countries."
   ]
  },
  {
   "cell_type": "code",
   "execution_count": 293,
   "metadata": {
    "id": "YSa67sZSKIp3"
   },
   "outputs": [],
   "source": [
    "from google.colab import drive"
   ]
  },
  {
   "cell_type": "code",
   "execution_count": 294,
   "metadata": {
    "colab": {
     "base_uri": "https://localhost:8080/"
    },
    "id": "ND_3JhGSlzyx",
    "outputId": "64c5f331-ded3-43c3-c4d1-007aa5e37cf8"
   },
   "outputs": [
    {
     "name": "stdout",
     "output_type": "stream",
     "text": [
      "Drive already mounted at /content/drive/; to attempt to forcibly remount, call drive.mount(\"/content/drive/\", force_remount=True).\n"
     ]
    }
   ],
   "source": [
    "drive.mount('/content/drive/')"
   ]
  },
  {
   "cell_type": "markdown",
   "metadata": {
    "id": "klRmefIzdhZy"
   },
   "source": [
    "Importing all the required libraries for the wrangling -  \n",
    "Pandas, Numpy, matplotlib, sklearn, dateutil, seaborn."
   ]
  },
  {
   "cell_type": "code",
   "execution_count": 295,
   "metadata": {
    "id": "ciLXGAjzmEBm"
   },
   "outputs": [],
   "source": [
    "\n",
    "#importing all the required libraries\n",
    "import pandas as pd\n",
    "import numpy as np\n",
    "import re\n",
    "import warnings\n",
    "from matplotlib import pyplot as plt\n",
    "from dateutil.parser import parse\n",
    "from sklearn.linear_model import LinearRegression\n",
    "from sklearn.model_selection import train_test_split\n",
    "from sklearn import linear_model\n",
    "from sklearn.metrics import mean_squared_error\n",
    "from math import radians, cos, sin, asin, sqrt\n",
    "%matplotlib inline\n",
    "warnings.filterwarnings(\"ignore\")\n",
    "import seaborn as sns"
   ]
  },
  {
   "cell_type": "markdown",
   "metadata": {
    "id": "MuhFgl6jgVoS"
   },
   "source": [
    "Reading the required datasets which are \n",
    "\n",
    "*   dirty_data.csv\n",
    "*   outlier_data.csv\n",
    "*   missing_data.csv\n",
    "*   countries.csv\n",
    "\n",
    "\n",
    "\n",
    "\n"
   ]
  },
  {
   "cell_type": "code",
   "execution_count": 296,
   "metadata": {
    "id": "JpQZF2qZcuf4"
   },
   "outputs": [],
   "source": [
    "#Reading the data from the input files\n",
    "dirty_data =  pd.read_csv(\"/content/drive/Shareddrives/FIT5196-s1-2022/A2/input_data/32263546_dirty.csv\")\n",
    "outlier_data = pd.read_csv(\"/content/drive/Shareddrives/FIT5196-s1-2022/A2/input_data/32263546_outlier.csv\")\n",
    "missing_data = pd.read_csv(\"/content/drive/Shareddrives/FIT5196-s1-2022/A2/input_data/32263546_missing.csv\")\n",
    "country_data = pd.read_csv(\"/content/drive/Shareddrives/FIT5196-s1-2022/A2/countries.csv\")"
   ]
  },
  {
   "cell_type": "markdown",
   "metadata": {
    "id": "n6FHHhwkf3Z-"
   },
   "source": [
    "#**Dirty data - Exploratory data analysis**"
   ]
  },
  {
   "cell_type": "markdown",
   "metadata": {
    "id": "3Cl4JMScm5Jq"
   },
   "source": [
    "To get the basic information about the dataset, we have used \"**.columns**\", \"**.shape**\", \"**.nunique**\", \"**.isna().sum()**\".\n",
    " \n",
    "\n",
    "*  .columns gives all the variable names of the given dataset.\n",
    "*   .shape gives the size of the dataframe in terms of rows and columns.\n",
    "*   .nunique() gives the number of unique values in each column.\n",
    "*   .isna().sum() gives the total number of NA values in each column.\n",
    "*   .dtypes to give the datatype of each column in the dataset.\n",
    "By doing al these, we get a basic idea of the structure of the dataset, if it has any NA values, number of unique values in the dataset. "
   ]
  },
  {
   "cell_type": "code",
   "execution_count": 297,
   "metadata": {
    "colab": {
     "base_uri": "https://localhost:8080/"
    },
    "id": "A0jicRPAfyB3",
    "outputId": "1370305a-66a9-4ee8-bd50-f4e017b746d0",
    "scrolled": true
   },
   "outputs": [
    {
     "data": {
      "text/plain": [
       "Index(['ticket_id', 'airline_flight', 'name', 'gender', 'dob', 'dop', 'dod',\n",
       "       'is_adult', 'from', 'to', 'distance', 'num_stops', 'has_loyalty',\n",
       "       'price_tier', 'price'],\n",
       "      dtype='object')"
      ]
     },
     "execution_count": 297,
     "metadata": {},
     "output_type": "execute_result"
    }
   ],
   "source": [
    "dirty_data.columns"
   ]
  },
  {
   "cell_type": "code",
   "execution_count": 298,
   "metadata": {
    "colab": {
     "base_uri": "https://localhost:8080/"
    },
    "id": "7J9oIe1yf-Nx",
    "outputId": "ca43dc67-05e9-41e3-dfb1-21489677e5cc"
   },
   "outputs": [
    {
     "data": {
      "text/plain": [
       "(500, 15)"
      ]
     },
     "execution_count": 298,
     "metadata": {},
     "output_type": "execute_result"
    }
   ],
   "source": [
    "dirty_data.shape"
   ]
  },
  {
   "cell_type": "code",
   "execution_count": 299,
   "metadata": {
    "colab": {
     "base_uri": "https://localhost:8080/"
    },
    "id": "8ISUVaxrgCJw",
    "outputId": "76644ee8-bbfe-41b1-dfe5-8221fd304d88"
   },
   "outputs": [
    {
     "data": {
      "text/plain": [
       "ticket_id         500\n",
       "airline_flight    455\n",
       "name              498\n",
       "gender              5\n",
       "dob               490\n",
       "dop               281\n",
       "dod               342\n",
       "is_adult            2\n",
       "from              216\n",
       "to                219\n",
       "distance          493\n",
       "num_stops           3\n",
       "has_loyalty         2\n",
       "price_tier          3\n",
       "price             500\n",
       "dtype: int64"
      ]
     },
     "execution_count": 299,
     "metadata": {},
     "output_type": "execute_result"
    }
   ],
   "source": [
    "dirty_data.nunique()"
   ]
  },
  {
   "cell_type": "code",
   "execution_count": 300,
   "metadata": {
    "colab": {
     "base_uri": "https://localhost:8080/"
    },
    "id": "RSeCTW94gGJF",
    "outputId": "7c4b1406-5c1a-4a37-b34f-206c93399ce8"
   },
   "outputs": [
    {
     "data": {
      "text/plain": [
       "ticket_id         0\n",
       "airline_flight    0\n",
       "name              0\n",
       "gender            0\n",
       "dob               0\n",
       "dop               0\n",
       "dod               0\n",
       "is_adult          0\n",
       "from              0\n",
       "to                0\n",
       "distance          0\n",
       "num_stops         0\n",
       "has_loyalty       0\n",
       "price_tier        0\n",
       "price             0\n",
       "dtype: int64"
      ]
     },
     "execution_count": 300,
     "metadata": {},
     "output_type": "execute_result"
    }
   ],
   "source": [
    "dirty_data.isna().sum()"
   ]
  },
  {
   "cell_type": "code",
   "execution_count": 301,
   "metadata": {
    "colab": {
     "base_uri": "https://localhost:8080/"
    },
    "id": "o9kmtyuMgP59",
    "outputId": "bd3210dc-b0f5-4adc-c0bb-c9fe37365f1f"
   },
   "outputs": [
    {
     "data": {
      "text/plain": [
       "ticket_id          object\n",
       "airline_flight     object\n",
       "name               object\n",
       "gender             object\n",
       "dob                object\n",
       "dop                object\n",
       "dod                object\n",
       "is_adult            int64\n",
       "from               object\n",
       "to                 object\n",
       "distance          float64\n",
       "num_stops           int64\n",
       "has_loyalty         int64\n",
       "price_tier          int64\n",
       "price             float64\n",
       "dtype: object"
      ]
     },
     "execution_count": 301,
     "metadata": {},
     "output_type": "execute_result"
    }
   ],
   "source": [
    "dirty_data.dtypes"
   ]
  },
  {
   "cell_type": "markdown",
   "metadata": {
    "id": "AYO-AsfppMfZ"
   },
   "source": [
    "By the above done exploration, we know that there is not any missing values in the dirty_data.csv file and we know the number of unique values, and datatypes of each column in the dataset. The next step is to check for the errors in the data entry. \n",
    "In the given document, the column  airline_flight has a string denoting airline_name\\airline_short_form–flight_number."
   ]
  },
  {
   "cell_type": "code",
   "execution_count": 302,
   "metadata": {
    "colab": {
     "base_uri": "https://localhost:8080/"
    },
    "id": "IFAi6KY5gdgT",
    "outputId": "0e717ed5-030f-4231-85bf-00e5e26b0567"
   },
   "outputs": [
    {
     "name": "stdout",
     "output_type": "stream",
     "text": [
      "['Calisto' 'Omega' 'Adonis']\n",
      "['CS' 'OG' 'AS' 'as' 'cs']\n"
     ]
    }
   ],
   "source": [
    "\n",
    "#using re to split the name of the flight \n",
    "def name(n):\n",
    "  return str(n).split(\"\\\\\")[0]\n",
    "def short(sh):\n",
    "  return str(sh).split(\"\\\\\")[1].split(\"-\")[0]\n",
    "def number(num):\n",
    "  return str(num).split(\"\\\\\")[1].split(\"-\")[1]\n",
    "\n",
    "#adding flight name, short form, number to a dataframe and getting the unique values of the flight names and short form\n",
    "df = pd.DataFrame()\n",
    "df[\"airline_flight\"] = dirty_data[\"airline_flight\"]\n",
    "df[\"airline_name\"] = dirty_data[\"airline_flight\"].apply(name)\n",
    "df[\"airline_short_form\"] = dirty_data[\"airline_flight\"].apply(short)\n",
    "df[\"flight_number\"] = dirty_data[\"airline_flight\"].apply(number)\n",
    "print(df[\"airline_name\"].unique())\n",
    "print(df[\"airline_short_form\"].unique())"
   ]
  },
  {
   "cell_type": "markdown",
   "metadata": {
    "id": "l-n6UqpUum2T"
   },
   "source": [
    "Using regular expression, I have separated the flight name, short form and the number. I have created a dataframe where I have fed the separated the name, short form and flight number. On seeing the unique values in the airline_name, and airline_short_form, we have the names and short forms. We realise that the short form of the flight name are both in capital case and small case. To rectify the error, a dictionary is used and the correct abbreviation for the airline_short_form is used to rectify the flight_name\\short_form variable. "
   ]
  },
  {
   "cell_type": "code",
   "execution_count": 303,
   "metadata": {
    "id": "pQRf-JOuj4Az"
   },
   "outputs": [],
   "source": [
    "flight_name = {\"Calisto\": \"CS\", \n",
    "               \"Omega\" : \"OG\", \n",
    "               \"Adonis\" : \"AS\"}\n",
    "          \n",
    "\n",
    "#correcting the short forms for the names\n",
    "def correction(flight):\n",
    "  correct_name = re.split(r'\\\\|\\-', flight)\n",
    "  correct_abbreviation = flight_name[correct_name[0]]\n",
    "  return correct_name[0] + \"\\\\\" + correct_abbreviation + \"-\" + correct_name[2]\n",
    "\n",
    "\n",
    "dirty_data[\"airline_flight\"] = dirty_data[\"airline_flight\"].apply(correction)\n",
    "#print(df[\"airline_flight\"].unique())"
   ]
  },
  {
   "cell_type": "markdown",
   "metadata": {
    "id": "C4Z4-WdBwYmW"
   },
   "source": [
    "By this, the airline_flight column errors are corrected. On moving to the next column for possible errors, the name column cannot have possible errors because, it can only be spelling errors which cannot be rectified as the names are different. Now on checking the next column - gender for its unique values, the gender column has the values \"M\", \"male\", \"F\", \"f\", and \"m\" which signify \"Male\" and \"Female\". To rectify this, I have converted all the values to either \"M\" or \"F\" and applied this to the dataset. By this, we have the gender column rectified for the possible errors. "
   ]
  },
  {
   "cell_type": "code",
   "execution_count": 304,
   "metadata": {
    "colab": {
     "base_uri": "https://localhost:8080/"
    },
    "id": "U4RIJwOilnz6",
    "outputId": "3865b03e-ce2a-4bc4-80df-c034a2acfaff"
   },
   "outputs": [
    {
     "name": "stdout",
     "output_type": "stream",
     "text": [
      "['M' 'male' 'F' 'f' 'm']\n"
     ]
    }
   ],
   "source": [
    "print(dirty_data[\"gender\"].unique())"
   ]
  },
  {
   "cell_type": "code",
   "execution_count": 305,
   "metadata": {
    "colab": {
     "base_uri": "https://localhost:8080/"
    },
    "id": "cAG_lNGpluyu",
    "outputId": "669dda5a-cfc4-45c8-bf8d-cb7511a57a41"
   },
   "outputs": [
    {
     "name": "stdout",
     "output_type": "stream",
     "text": [
      "['M' 'F']\n"
     ]
    }
   ],
   "source": [
    "\n",
    "#correcting the gender into only \"M\" and \"F\" and applying it to the dataset\n",
    "def gender(gen):\n",
    "  if \"m\" in gen.lower():\n",
    "    return \"M\"\n",
    "  elif \"f\" in gen.lower():\n",
    "    return \"F\"\n",
    "\n",
    "dirty_data[\"gender\"] = dirty_data[\"gender\"].apply(gender)\n",
    "print(dirty_data[\"gender\"].unique())"
   ]
  },
  {
   "cell_type": "markdown",
   "metadata": {
    "id": "mAbbJLirxeKF"
   },
   "source": [
    "By this, we have only two genders which are \"M\" or \"F\". \n",
    "The next step is to make sure the columns:\n",
    "\"dob\" - the date of birth of the traveller\n",
    "\"dop\" - the date of the ticket purchased\n",
    "\"dod\" - the date of the departure\n",
    "are in the same date format - \"YYYY-MM-DD\"."
   ]
  },
  {
   "cell_type": "code",
   "execution_count": 306,
   "metadata": {
    "id": "kHGCJNsYmSCJ"
   },
   "outputs": [],
   "source": [
    "#date formatting with required format\n",
    "def clean_date(dat):\n",
    "  try:\n",
    "    return pd.to_datetime(dat).strftime('%Y-%m-%d')\n",
    "  except:\n",
    "    return pd.to_datetime(dat, format = \"%Y-%d-%m\").strftime('%Y-%m-%d')\n",
    "\n",
    "#applying it to the dataframe\n",
    "dirty_data[\"dob\"] = dirty_data[\"dob\"].apply(clean_date)\n",
    "dirty_data[\"dop\"] = dirty_data[\"dop\"].apply(clean_date)\n",
    "dirty_data[\"dod\"] = dirty_data[\"dod\"].apply(clean_date)"
   ]
  },
  {
   "cell_type": "markdown",
   "metadata": {
    "id": "A7jyBvk5zXEQ"
   },
   "source": [
    "Using the pandas function \".to_datetime(), we convert the date of the columns and then convert it to a string using the \"strftime()\" to the required format which is \"%Y-%m-%d\". By this, we have the columns - dob, dop, and dod in the required format."
   ]
  },
  {
   "cell_type": "markdown",
   "metadata": {
    "id": "ryYYa8Qb14Kq"
   },
   "source": [
    "The next step is to find if there are any errors in the distance column. The distance column has the arc distance between two countries. To find the arc distance, we can use the latitude and longitude position of the countries from the countries dataset and check for the errors.\n",
    "The distance is found using the Haversine formula using the latitude and longitude from the countries.csv file. "
   ]
  },
  {
   "cell_type": "code",
   "execution_count": 307,
   "metadata": {
    "id": "nX-Hfb7AUcPU"
   },
   "outputs": [],
   "source": [
    "#finding the distance betweeen the countries to calculate the price\n",
    "for i in range(len(dirty_data)):\n",
    "  from_latitude = radians(country_data[country_data[\"name\"] == dirty_data[\"from\"][i]][\"latitude\"].iloc[0])\n",
    "  from_longitude = radians(country_data[country_data[\"name\"] == dirty_data[\"from\"][i]][\"longitude\"].iloc[0])\n",
    "  to_latitude = radians(country_data[country_data[\"name\"] == dirty_data[\"to\"][i]][\"latitude\"].iloc[0])\n",
    "  to_longitude = radians(country_data[country_data[\"name\"] == dirty_data[\"to\"][i]][\"longitude\"].iloc[0])\n",
    "\n",
    "  dis_lon = to_longitude - from_longitude\n",
    "  dis_lat = to_latitude - from_latitude\n",
    "\n",
    "  d = 2*asin(sqrt(sin(dis_lat / 2)**2 + cos(from_latitude) * cos(to_latitude) *sin(dis_lon / 2)**2))\n",
    "  earth_radius = 6378\n",
    "  calc_distance = round(earth_radius * d, 2)\n",
    "\n",
    "  \n",
    "  if(dirty_data[\"distance\"][i] != calc_distance):\n",
    "    dirty_data.at[i, \"distance\"] = calc_distance"
   ]
  },
  {
   "cell_type": "markdown",
   "metadata": {
    "id": "qgAkzVNB3AC4"
   },
   "source": [
    "The found distance has ben rounded to two decimal places for approximity. By this, the errors in the distance column are rectified. \n",
    "The next step is to check for the has_loyalty column. This column consists of flags which is either 0 or 1. 1 signifies that the person has loyalty program membership and the 0 signifies that the person does not have loyalty program membership."
   ]
  },
  {
   "cell_type": "code",
   "execution_count": 308,
   "metadata": {
    "colab": {
     "base_uri": "https://localhost:8080/"
    },
    "id": "r_KEC4l-Ut2V",
    "outputId": "5fcc72ea-6278-4962-dd3e-a2162d2f5356"
   },
   "outputs": [
    {
     "data": {
      "text/plain": [
       "array([1, 0])"
      ]
     },
     "execution_count": 308,
     "metadata": {},
     "output_type": "execute_result"
    }
   ],
   "source": [
    "dirty_data[\"has_loyalty\"].unique()"
   ]
  },
  {
   "cell_type": "markdown",
   "metadata": {
    "id": "tP1qVQ_r3vyh"
   },
   "source": [
    "The next step is to retrieve the price_tier values for the decision tree which can be 1, 2 or 3 based on which the tickets are priced. To check if there are no other values except for 1, 2 and 3, The unique values of the \"price_tier column are retrieved using the .unique() function. "
   ]
  },
  {
   "cell_type": "code",
   "execution_count": 309,
   "metadata": {
    "colab": {
     "base_uri": "https://localhost:8080/"
    },
    "id": "ShvBEZKfUyqu",
    "outputId": "cb7fc2df-adf2-4c90-fe95-d83deff870ff"
   },
   "outputs": [
    {
     "name": "stdout",
     "output_type": "stream",
     "text": [
      "[2 1 3]\n"
     ]
    }
   ],
   "source": [
    "print(dirty_data[\"price_tier\"].unique())"
   ]
  },
  {
   "cell_type": "markdown",
   "metadata": {
    "id": "SElpPv3q5Yd4"
   },
   "source": [
    "For the decision tree, the following constraints are checked:\n",
    "dpbd = difference in the number of days between the dop and dod. \n",
    " \n",
    "\n",
    "1.  If the dpbd >= 180, the next step is to check if the travel is during the weekend or now. Weekends here are Saturdays and Sundays.\n",
    "  \n",
    "\n",
    "*   If the travel is during the weekends, the the price_tier is set to 2.\n",
    "*   If the travel is during the weekdays (Monday -Friday), then the price_tier is set to 1.\n",
    "\n",
    "2.   If the dpbd is less than 180, it is checked if it is less that 60 days. \n",
    "*   If the dpbd is less than or equal to 60 and the day of travel is is in the weekends, then the price_tier is set to 3\n",
    "*   If the dpbd is less than or equal to 60 and the day of travel is is not during the weekends, then the price_tier is set to 2.\n",
    "*   If the dpbd not greater or equal to 180 days and not less or equal to 60 days, then the price_tier is set to 2.\n",
    "\n",
    "\n",
    "To achieve this decision tree, we have to check for the weekends and weekdays. If the travel is during the weekends, then I have returned the flag 1, else 0. Based on this, the decision tree is developed to set the price tiers."
   ]
  },
  {
   "cell_type": "code",
   "execution_count": 310,
   "metadata": {
    "id": "-S2J96UKU_Az"
   },
   "outputs": [],
   "source": [
    "\n",
    "def dayflag(day):\n",
    "  if(day in [\"Saturday\", \"Sunday\"]):\n",
    "    return 1\n",
    "  else:\n",
    "    return 0\n",
    "#decision tree for the price\n",
    "df = pd.DataFrame()\n",
    "df = dirty_data[[\"ticket_id\", \"dop\", \"dod\", \"price_tier\"]]\n",
    "df[\"dod\"] = pd.to_datetime(df[\"dod\"])\n",
    "df[\"dop\"] = pd.to_datetime(df[\"dop\"])\n",
    "df[\"dpbd\"] = (df[\"dod\"] - df[\"dop\"]).dt.days\n",
    "df[\"dod_day\"] = df[\"dod\"].dt.day_name()\n",
    "df[\"dod_day_flag\"] = df[\"dod_day\"].apply(dayflag)\n",
    "df[\"calc_price_tier\"] = \"\"\n",
    "\n",
    "for i in range(len(df[\"dpbd\"])):\n",
    "  if(df[\"dpbd\"][i] >= 180):\n",
    "    if(df[\"dod_day_flag\"][i] == 1):\n",
    "      df[\"calc_price_tier\"][i] = 2\n",
    "    else:\n",
    "      df[\"calc_price_tier\"][i] = 1\n",
    "  else:\n",
    "    if(df[\"dpbd\"][i] <= 60):\n",
    "      if(df[\"dod_day_flag\"][i] == 1):\n",
    "        df[\"calc_price_tier\"][i] = 3\n",
    "      else:\n",
    "        df[\"calc_price_tier\"][i] = 2\n",
    "    else:\n",
    "      df[\"calc_price_tier\"][i] = 2\n",
    "\n",
    "df = df[df[\"price_tier\"] != df[\"calc_price_tier\"]]\n",
    "df = df.reset_index(drop = True)\n",
    "\n",
    "for i in range(len(df)):\n",
    "  dirty_data.loc[dirty_data[\"ticket_id\"] == df[\"ticket_id\"][i], \"price_tier\"] = df[\"calc_price_tier\"][i]\n",
    "\n",
    "\n",
    "\n"
   ]
  },
  {
   "cell_type": "markdown",
   "metadata": {
    "id": "yGTlqgE-8RP5"
   },
   "source": [
    "The price_tier column errors are rectified and fed into the calc_price_tier column. The calc_price_tier contains the error free and correct price_tier data.  \n",
    "\n",
    "Once all the errors are solved in the dirty_data, it is written into a new csv file called the dirty_data_solution.csv. By this, the dirty_data is explored. "
   ]
  },
  {
   "cell_type": "code",
   "execution_count": 311,
   "metadata": {
    "id": "CH8C4DNnnWP0"
   },
   "outputs": [],
   "source": [
    "dirty_data.to_csv(\"/content/drive/MyDrive/dw_assignment2_output/32263546_dirty_solution.csv\", index = False)"
   ]
  },
  {
   "cell_type": "markdown",
   "metadata": {
    "id": "WorFH8yEzOrt"
   },
   "source": [
    "#**Missing data - Exploratory Data Analysis**"
   ]
  },
  {
   "cell_type": "markdown",
   "metadata": {
    "id": "AiYXXvqyD6Ni"
   },
   "source": [
    "It is clearly given that there are no errors in the missing_data except for the missing values. For the EDA of the mssing_data, it is important to understand the structure, the datatypes, and the number of missing values in each column.\n",
    "\n",
    "\n",
    "*   .shape gives the number of rows and columns of the dataset.\n",
    "*   .columns gives all the names of the columns in the dataset.\n",
    "*   .isna().sum() gives the number of all the NA values in each column.\n",
    "*   .dropna for dropping the rows or columns with the missing values.\n",
    "\n",
    "\n",
    "\n"
   ]
  },
  {
   "cell_type": "code",
   "execution_count": 312,
   "metadata": {
    "colab": {
     "base_uri": "https://localhost:8080/"
    },
    "id": "GSNmP502zU7p",
    "outputId": "bfe412a2-0971-46d3-cab3-3d53efb522ce"
   },
   "outputs": [
    {
     "data": {
      "text/plain": [
       "(500, 15)"
      ]
     },
     "execution_count": 312,
     "metadata": {},
     "output_type": "execute_result"
    }
   ],
   "source": [
    "missing_data.shape\n"
   ]
  },
  {
   "cell_type": "markdown",
   "metadata": {
    "id": "g_pDNLPYE52h"
   },
   "source": [
    "The size of the data is 500 rows and 15 columns"
   ]
  },
  {
   "cell_type": "code",
   "execution_count": 313,
   "metadata": {
    "colab": {
     "base_uri": "https://localhost:8080/"
    },
    "id": "wduu-O4ShrpL",
    "outputId": "0fda7c10-d0ce-4b20-9495-1ad198a9ff57"
   },
   "outputs": [
    {
     "data": {
      "text/plain": [
       "Index(['ticket_id', 'airline_flight', 'name', 'gender', 'dob', 'dop', 'dod',\n",
       "       'is_adult', 'from', 'to', 'distance', 'num_stops', 'has_loyalty',\n",
       "       'price_tier', 'price'],\n",
       "      dtype='object')"
      ]
     },
     "execution_count": 313,
     "metadata": {},
     "output_type": "execute_result"
    }
   ],
   "source": [
    "#column names in the data\n",
    "missing_data.columns"
   ]
  },
  {
   "cell_type": "code",
   "execution_count": 314,
   "metadata": {
    "colab": {
     "base_uri": "https://localhost:8080/"
    },
    "id": "zHCIsPeJX61G",
    "outputId": "51887c67-60df-4e58-9d3c-32bcdf90691e"
   },
   "outputs": [
    {
     "data": {
      "text/plain": [
       "ticket_id           0\n",
       "airline_flight      0\n",
       "name                0\n",
       "gender              0\n",
       "dob                 0\n",
       "dop                 0\n",
       "dod                 0\n",
       "is_adult            0\n",
       "from                0\n",
       "to                  0\n",
       "distance            0\n",
       "num_stops           0\n",
       "has_loyalty         0\n",
       "price_tier          0\n",
       "price             150\n",
       "dtype: int64"
      ]
     },
     "execution_count": 314,
     "metadata": {},
     "output_type": "execute_result"
    }
   ],
   "source": [
    "missing_data.isna().sum()\n"
   ]
  },
  {
   "cell_type": "markdown",
   "metadata": {
    "id": "vKUTMMNZFBBy"
   },
   "source": [
    "By this, it is evident that there are 150 missing values in the \"price\" column of the dataset which makes only 350 not null values and 150 NA values in the data. "
   ]
  },
  {
   "cell_type": "code",
   "execution_count": 315,
   "metadata": {
    "colab": {
     "base_uri": "https://localhost:8080/"
    },
    "id": "787x8aVJfWUk",
    "outputId": "2fee5230-9169-4f54-f69c-0cb9f4ed7020"
   },
   "outputs": [
    {
     "name": "stdout",
     "output_type": "stream",
     "text": [
      "(350, 15)\n",
      "(500, 15)\n"
     ]
    }
   ],
   "source": [
    "#shape of the files\n",
    "missing_notnull = missing_data.copy()\n",
    "missing_notnull.dropna(subset = [\"price\"], inplace = True)\n",
    "print(missing_notnull.shape)\n",
    "print(missing_data.shape)"
   ]
  },
  {
   "cell_type": "markdown",
   "metadata": {
    "id": "bsrrLoP-FR6P"
   },
   "source": [
    "Now on creating a dataset that has only the not null values of the columns \"price_tier\", \"distance\", \"num_stops\", \"is_adult\", \"price\", We are calculating the interaction (\"price_tier*distance\") which is the product of the \"price_tier\" and the \"distance\".  Based on this, we are plotting a graph between the interaction and the price "
   ]
  },
  {
   "cell_type": "code",
   "execution_count": 316,
   "metadata": {
    "id": "xnjUwMR5UeY6"
   },
   "outputs": [],
   "source": [
    "df = missing_notnull[[\"price_tier\", \"distance\", \"num_stops\", \"is_adult\", \"price\"]]\n",
    "df[\"price_tier*distance\"] = df[\"price_tier\"] * df[\"distance\"]"
   ]
  },
  {
   "cell_type": "markdown",
   "metadata": {
    "id": "wjqZ9Yl3Qnzk"
   },
   "source": [
    "To compare the interaction and the price, a scatterplot has been plotted using the matplotlib library. The X-axis has the price_tier*distance (i.e interaction) and the Y-axis has the price. "
   ]
  },
  {
   "cell_type": "code",
   "execution_count": 317,
   "metadata": {
    "colab": {
     "base_uri": "https://localhost:8080/",
     "height": 300
    },
    "id": "jLnbQXEbU01N",
    "outputId": "33876241-0adb-4016-801f-ea4076b695c7"
   },
   "outputs": [
    {
     "data": {
      "image/png": "[encoded data removed]",
      "text/plain": [
       "<Figure size 432x288 with 1 Axes>"
      ]
     },
     "metadata": {
      "needs_background": "light"
     },
     "output_type": "display_data"
    }
   ],
   "source": [
    "#interaction vc price using matplotlib\n",
    "plt.scatter(df[\"price_tier*distance\"], df[\"price\"], color = \"red\", edgecolor = \"black\")\n",
    "plt.title(\"Interaction Vs Price\", fontsize = 14)\n",
    "plt.xlabel(\"price_tier*distance\", fontsize = 14)\n",
    "plt.ylabel(\"price\", fontsize = 14)\n",
    "plt.grid(True)\n",
    "plt.show()"
   ]
  },
  {
   "cell_type": "markdown",
   "metadata": {
    "id": "4ahRu-qyHjdL"
   },
   "source": [
    "From the above graph, it is clear that as the interaction rate increases, the price also increases correspondingly. "
   ]
  },
  {
   "cell_type": "markdown",
   "metadata": {
    "id": "sK4LJJweQ9ZA"
   },
   "source": [
    "To show the relationship between the number of stops and the price, A bar graph has been plotted using the matplotlib library. The X-axis has the number of stops which is 0,1 and 2 and the Y axis shows the average price. "
   ]
  },
  {
   "cell_type": "code",
   "execution_count": 318,
   "metadata": {
    "colab": {
     "base_uri": "https://localhost:8080/",
     "height": 300
    },
    "id": "ghHYSSHyVJkY",
    "outputId": "38a83aa7-16e5-43ef-cd55-892a52633322"
   },
   "outputs": [
    {
     "data": {
      "image/png": "[encoded data removed]",
      "text/plain": [
       "<Figure size 432x288 with 1 Axes>"
      ]
     },
     "metadata": {
      "needs_background": "light"
     },
     "output_type": "display_data"
    }
   ],
   "source": [
    "#Number of stops Vs Average price using matplotlib\n",
    "stops_df = df.groupby([\"num_stops\"], as_index = False)[\"price\"].mean()\n",
    "plt.bar(stops_df[\"num_stops\"], stops_df[\"price\"], color = \"pink\", edgecolor = \"black\")\n",
    "plt.title(\"Number of stops Vs Average price\", fontsize = 14)\n",
    "plt.xlabel(\"Number of stops\", fontsize = 14)\n",
    "plt.ylabel(\"Average price\", fontsize = 14)\n",
    "plt.xticks([0,1,2])\n",
    "plt.show()"
   ]
  },
  {
   "cell_type": "markdown",
   "metadata": {
    "id": "sm1sgSuoTczV"
   },
   "source": [
    "From the above graph plotted, it is clear that the average price is highest for 1 stop and lowest for 0 stops. \n",
    "To compare the prices for adults, a bar plot has been plotted. The X-axis represents the adults which has the values - \n",
    "0 = Not an adult\n",
    "1 = Adult.\n",
    "Y-axis has the average price of the tickets"
   ]
  },
  {
   "cell_type": "code",
   "execution_count": 319,
   "metadata": {
    "colab": {
     "base_uri": "https://localhost:8080/",
     "height": 300
    },
    "id": "3UskOAOw7nLd",
    "outputId": "d7d644dd-db26-4e1e-96c2-b0c546a4194a"
   },
   "outputs": [
    {
     "data": {
      "image/png": "[encoded data removed]",
      "text/plain": [
       "<Figure size 432x288 with 1 Axes>"
      ]
     },
     "metadata": {
      "needs_background": "light"
     },
     "output_type": "display_data"
    }
   ],
   "source": [
    "#Adult Vs Average price using matplotlib\n",
    "adult_df = df.groupby([\"is_adult\"], as_index = False)[\"price\"].mean()\n",
    "plt.bar(adult_df[\"is_adult\"], adult_df[\"price\"], color = \"indigo\", edgecolor = \"black\")\n",
    "plt.title(\"Adult Vs Average price\", fontsize = 14)\n",
    "plt.xlabel(\"Adult or not\", fontsize = 14)\n",
    "plt.ylabel(\"Average price\", fontsize = 14)\n",
    "plt.xticks([0,1])\n",
    "plt.show()"
   ]
  },
  {
   "cell_type": "markdown",
   "metadata": {
    "id": "bgiz6kSOUztY"
   },
   "source": [
    "From the above graph, the cost of the adults are higher than the average price for the non-adult passengers. \n"
   ]
  },
  {
   "cell_type": "markdown",
   "metadata": {
    "id": "i2swXTCSVF4r"
   },
   "source": [
    "For calculating the price of the ticket, a linear model is plotted depending on the factors - \"price_tier\", \"distance\", \"num_stops\", \"is_adult\", \"price\". \n",
    "A dataframe lr_data is created that contains the not null values with the columns - \"price_tier\", \"distance\", \"num_stops\", \"is_adult\", \"price\".\n",
    "The interaction between price_tier and distance is calculated by multiplying the price_tier and distance. \n",
    "The dataset is then split into 15% as test data and 85% as training data. A linear regression model with the above mentioned factors using the .LinearRegression() function is used and the training data is fit into the model. Moreover, the score for the test data and train data is printed to see how efficient the model is. "
   ]
  },
  {
   "cell_type": "code",
   "execution_count": 320,
   "metadata": {
    "colab": {
     "base_uri": "https://localhost:8080/"
    },
    "id": "g4y7GoJ1XaNV",
    "outputId": "d47b2693-3551-459c-e2b0-e856dc042f71"
   },
   "outputs": [
    {
     "name": "stdout",
     "output_type": "stream",
     "text": [
      "Calisto\n",
      "0.9853867576156248\n",
      "0.9883036722796417\n",
      "Adonis\n",
      "0.9885915356295167\n",
      "0.9885830135450935\n",
      "Omega\n",
      "0.9836316539428955\n",
      "0.9852241491222332\n"
     ]
    }
   ],
   "source": [
    "#regression models\n",
    "\n",
    "from sklearn.metrics import mean_absolute_error\n",
    "from math import sqrt\n",
    "\n",
    "\n",
    "\n",
    "airlines = list(set(missing_data[\"airline_flight\"].str.split(\"\\\\\").str[0]))\n",
    "\n",
    "for airline in airlines:\n",
    "  lr_data = missing_notnull[missing_notnull[\"airline_flight\"].str.contains(airline)][[\"price_tier\", \"distance\", \"num_stops\", \"is_adult\", \"price\"]]\n",
    "  lr_data[\"price_tier*distance\"] = lr_data[\"price_tier\"]*lr_data[\"distance\"]\n",
    "  x = lr_data.drop(columns = [\"price\"])\n",
    "  y= lr_data[\"price\"]\n",
    "  x_train, x_test, y_train, y_test = train_test_split(x,y,test_size = 0.15, random_state = 0)\n",
    "  reg = linear_model.LinearRegression()\n",
    "  reg.fit(x_train, y_train)\n",
    "  print(airline)\n",
    "  print(reg.score(x_test, y_test))\n",
    "  print(reg.score(x_train, y_train))\n",
    "  \n",
    "\n",
    "  airline_data = missing_data[missing_data[\"airline_flight\"].str.contains(airline) & missing_data[\"price\"].isnull()]\n",
    "  airline_data = airline_data.reset_index(drop = True)\n",
    "  for i in range(len(airline_data)):\n",
    "    if(airline_data[\"has_loyalty\"][i] == 1):\n",
    "      missing_data.loc[missing_data[\"ticket_id\"] == airline_data[\"ticket_id\"][i], \"price\"] = reg.predict([[airline_data[\"price_tier\"][i], airline_data[\"distance\"][i], airline_data[\"price_tier\"][i] * airline_data[\"distance\"][i], airline_data[\"num_stops\"][i], airline_data[\"is_adult\"][i]]])[0]*0.9\n",
    "      \n",
    "    else:\n",
    "      missing_data.loc[missing_data[\"ticket_id\"] == airline_data[\"ticket_id\"][i], \"price\"] = reg.predict([[airline_data[\"price_tier\"][i], airline_data[\"distance\"][i], airline_data[\"price_tier\"][i] * airline_data[\"distance\"][i], airline_data[\"num_stops\"][i], airline_data[\"is_adult\"][i]]])[0]\n",
    "      "
   ]
  },
  {
   "cell_type": "markdown",
   "metadata": {
    "id": "dO6w27S_XK4R"
   },
   "source": [
    "Once the linear regression is employed to find the price, the discount of 10% is given to the people who have loyalty membership. The next step is to check if there are still any NA values in the \"price\" column. By checking the shape, it is clear that all the missing values have been imputed and there are no more missing values in the dataset. "
   ]
  },
  {
   "cell_type": "code",
   "execution_count": 321,
   "metadata": {
    "colab": {
     "base_uri": "https://localhost:8080/"
    },
    "id": "y-vuwV6MtrrX",
    "outputId": "47c28d8b-5bef-4164-80d7-7449b7968f86"
   },
   "outputs": [
    {
     "data": {
      "text/plain": [
       "ticket_id         0\n",
       "airline_flight    0\n",
       "name              0\n",
       "gender            0\n",
       "dob               0\n",
       "dop               0\n",
       "dod               0\n",
       "is_adult          0\n",
       "from              0\n",
       "to                0\n",
       "distance          0\n",
       "num_stops         0\n",
       "has_loyalty       0\n",
       "price_tier        0\n",
       "price             0\n",
       "dtype: int64"
      ]
     },
     "execution_count": 321,
     "metadata": {},
     "output_type": "execute_result"
    }
   ],
   "source": [
    "missing_data.isna().sum()"
   ]
  },
  {
   "cell_type": "code",
   "execution_count": 322,
   "metadata": {
    "colab": {
     "base_uri": "https://localhost:8080/"
    },
    "id": "dGVAJ5VLY40q",
    "outputId": "32bbc936-e70f-427b-bc2d-4eee54636c25"
   },
   "outputs": [
    {
     "data": {
      "text/plain": [
       "(500, 15)"
      ]
     },
     "execution_count": 322,
     "metadata": {},
     "output_type": "execute_result"
    }
   ],
   "source": [
    "missing_data.shape"
   ]
  },
  {
   "cell_type": "markdown",
   "metadata": {
    "id": "seTCl6eLY20i"
   },
   "source": [
    "Once this is achieved, the dataset is output is written into a csv file. All the errors within the missing_data are rectified.  "
   ]
  },
  {
   "cell_type": "code",
   "execution_count": 323,
   "metadata": {
    "id": "ipPMNMsX3LBM"
   },
   "outputs": [],
   "source": [
    "missing_data.to_csv(\"/content/drive/MyDrive/dw_assignment2_output/32263546_missing_solution.csv\", index = False)"
   ]
  },
  {
   "cell_type": "markdown",
   "metadata": {
    "id": "L3-CGLLbwASu"
   },
   "source": [
    "#**Outlier data - Exploratory Data Analysis**"
   ]
  },
  {
   "cell_type": "markdown",
   "metadata": {
    "id": "Rln7ApoMZ5QE"
   },
   "source": [
    "For the EDA of the outlier data, the shape, missing values are checked. Once that is done, we have described the data using the describe(). By this, we have the basic structure of the dataset. Since there are no errors in the outliers file, all we have to check is for the outliers and rectify them. "
   ]
  },
  {
   "cell_type": "code",
   "execution_count": 324,
   "metadata": {
    "colab": {
     "base_uri": "https://localhost:8080/"
    },
    "id": "tNUPaJzC92OH",
    "outputId": "af6d4f4e-3b15-4aa7-d799-7cd6e8a83b41"
   },
   "outputs": [
    {
     "data": {
      "text/plain": [
       "(500, 15)"
      ]
     },
     "execution_count": 324,
     "metadata": {},
     "output_type": "execute_result"
    }
   ],
   "source": [
    "outlier_data.shape"
   ]
  },
  {
   "cell_type": "code",
   "execution_count": 325,
   "metadata": {
    "colab": {
     "base_uri": "https://localhost:8080/"
    },
    "id": "vCc74yBBwKFU",
    "outputId": "a8f0ade8-10c7-40cb-9597-642e1de16529"
   },
   "outputs": [
    {
     "data": {
      "text/plain": [
       "Index(['ticket_id', 'airline_flight', 'name', 'gender', 'dob', 'dop', 'dod',\n",
       "       'is_adult', 'from', 'to', 'distance', 'num_stops', 'has_loyalty',\n",
       "       'price_tier', 'price'],\n",
       "      dtype='object')"
      ]
     },
     "execution_count": 325,
     "metadata": {},
     "output_type": "execute_result"
    }
   ],
   "source": [
    "outlier_data.columns"
   ]
  },
  {
   "cell_type": "code",
   "execution_count": 326,
   "metadata": {
    "colab": {
     "base_uri": "https://localhost:8080/"
    },
    "id": "Q7iTTGERwp_u",
    "outputId": "a3559b30-f1f8-461f-d62a-c174c37896c8"
   },
   "outputs": [
    {
     "data": {
      "text/plain": [
       "ticket_id         0\n",
       "airline_flight    0\n",
       "name              0\n",
       "gender            0\n",
       "dob               0\n",
       "dop               0\n",
       "dod               0\n",
       "is_adult          0\n",
       "from              0\n",
       "to                0\n",
       "distance          0\n",
       "num_stops         0\n",
       "has_loyalty       0\n",
       "price_tier        0\n",
       "price             0\n",
       "dtype: int64"
      ]
     },
     "execution_count": 326,
     "metadata": {},
     "output_type": "execute_result"
    }
   ],
   "source": [
    "outlier_data.isna().sum()"
   ]
  },
  {
   "cell_type": "code",
   "execution_count": 327,
   "metadata": {
    "colab": {
     "base_uri": "https://localhost:8080/",
     "height": 300
    },
    "id": "GtuuWRO7ws68",
    "outputId": "12ac3979-41a3-48f2-a07d-9f9a0f9d5f9d"
   },
   "outputs": [
    {
     "data": {
      "text/html": [
       "\n",
       "  <div id=\"df-5ba83d79-8170-4290-abe3-f6c8c4759dbe\">\n",
       "    <div class=\"colab-df-container\">\n",
       "      <div>\n",
       "<style scoped>\n",
       "    .dataframe tbody tr th:only-of-type {\n",
       "        vertical-align: middle;\n",
       "    }\n",
       "\n",
       "    .dataframe tbody tr th {\n",
       "        vertical-align: top;\n",
       "    }\n",
       "\n",
       "    .dataframe thead th {\n",
       "        text-align: right;\n",
       "    }\n",
       "</style>\n",
       "<table border=\"1\" class=\"dataframe\">\n",
       "  <thead>\n",
       "    <tr style=\"text-align: right;\">\n",
       "      <th></th>\n",
       "      <th>is_adult</th>\n",
       "      <th>distance</th>\n",
       "      <th>num_stops</th>\n",
       "      <th>has_loyalty</th>\n",
       "      <th>price_tier</th>\n",
       "      <th>price</th>\n",
       "    </tr>\n",
       "  </thead>\n",
       "  <tbody>\n",
       "    <tr>\n",
       "      <th>count</th>\n",
       "      <td>500.000000</td>\n",
       "      <td>500.000000</td>\n",
       "      <td>500.000000</td>\n",
       "      <td>500.000000</td>\n",
       "      <td>500.000000</td>\n",
       "      <td>500.000000</td>\n",
       "    </tr>\n",
       "    <tr>\n",
       "      <th>mean</th>\n",
       "      <td>0.618000</td>\n",
       "      <td>8747.403760</td>\n",
       "      <td>1.184000</td>\n",
       "      <td>0.482000</td>\n",
       "      <td>1.648000</td>\n",
       "      <td>1441.765270</td>\n",
       "    </tr>\n",
       "    <tr>\n",
       "      <th>std</th>\n",
       "      <td>0.486363</td>\n",
       "      <td>4528.947657</td>\n",
       "      <td>0.776757</td>\n",
       "      <td>0.500176</td>\n",
       "      <td>0.562787</td>\n",
       "      <td>757.230902</td>\n",
       "    </tr>\n",
       "    <tr>\n",
       "      <th>min</th>\n",
       "      <td>0.000000</td>\n",
       "      <td>456.500000</td>\n",
       "      <td>0.000000</td>\n",
       "      <td>0.000000</td>\n",
       "      <td>1.000000</td>\n",
       "      <td>202.140000</td>\n",
       "    </tr>\n",
       "    <tr>\n",
       "      <th>25%</th>\n",
       "      <td>0.000000</td>\n",
       "      <td>5244.082500</td>\n",
       "      <td>1.000000</td>\n",
       "      <td>0.000000</td>\n",
       "      <td>1.000000</td>\n",
       "      <td>824.817500</td>\n",
       "    </tr>\n",
       "    <tr>\n",
       "      <th>50%</th>\n",
       "      <td>1.000000</td>\n",
       "      <td>8453.375000</td>\n",
       "      <td>1.000000</td>\n",
       "      <td>0.000000</td>\n",
       "      <td>2.000000</td>\n",
       "      <td>1280.715000</td>\n",
       "    </tr>\n",
       "    <tr>\n",
       "      <th>75%</th>\n",
       "      <td>1.000000</td>\n",
       "      <td>12055.837500</td>\n",
       "      <td>2.000000</td>\n",
       "      <td>1.000000</td>\n",
       "      <td>2.000000</td>\n",
       "      <td>1901.637500</td>\n",
       "    </tr>\n",
       "    <tr>\n",
       "      <th>max</th>\n",
       "      <td>1.000000</td>\n",
       "      <td>19798.130000</td>\n",
       "      <td>2.000000</td>\n",
       "      <td>1.000000</td>\n",
       "      <td>3.000000</td>\n",
       "      <td>4711.480000</td>\n",
       "    </tr>\n",
       "  </tbody>\n",
       "</table>\n",
       "</div>\n",
       "      <button class=\"colab-df-convert\" onclick=\"convertToInteractive('df-5ba83d79-8170-4290-abe3-f6c8c4759dbe')\"\n",
       "              title=\"Convert this dataframe to an interactive table.\"\n",
       "              style=\"display:none;\">\n",
       "        \n",
       "  <svg xmlns=\"http://www.w3.org/2000/svg\" height=\"24px\"viewBox=\"0 0 24 24\"\n",
       "       width=\"24px\">\n",
       "    <path d=\"M0 0h24v24H0V0z\" fill=\"none\"/>\n",
       "    <path d=\"M18.56 5.44l.94 2.06.94-2.06 2.06-.94-2.06-.94-.94-2.06-.94 2.06-2.06.94zm-11 1L8.5 8.5l.94-2.06 2.06-.94-2.06-.94L8.5 2.5l-.94 2.06-2.06.94zm10 10l.94 2.06.94-2.06 2.06-.94-2.06-.94-.94-2.06-.94 2.06-2.06.94z\"/><path d=\"M17.41 7.96l-1.37-1.37c-.4-.4-.92-.59-1.43-.59-.52 0-1.04.2-1.43.59L10.3 9.45l-7.72 7.72c-.78.78-.78 2.05 0 2.83L4 21.41c.39.39.9.59 1.41.59.51 0 1.02-.2 1.41-.59l7.78-7.78 2.81-2.81c.8-.78.8-2.07 0-2.86zM5.41 20L4 18.59l7.72-7.72 1.47 1.35L5.41 20z\"/>\n",
       "  </svg>\n",
       "      </button>\n",
       "      \n",
       "  <style>\n",
       "    .colab-df-container {\n",
       "      display:flex;\n",
       "      flex-wrap:wrap;\n",
       "      gap: 12px;\n",
       "    }\n",
       "\n",
       "    .colab-df-convert {\n",
       "      background-color: #E8F0FE;\n",
       "      border: none;\n",
       "      border-radius: 50%;\n",
       "      cursor: pointer;\n",
       "      display: none;\n",
       "      fill: #1967D2;\n",
       "      height: 32px;\n",
       "      padding: 0 0 0 0;\n",
       "      width: 32px;\n",
       "    }\n",
       "\n",
       "    .colab-df-convert:hover {\n",
       "      background-color: #E2EBFA;\n",
       "      box-shadow: 0px 1px 2px rgba(60, 64, 67, 0.3), 0px 1px 3px 1px rgba(60, 64, 67, 0.15);\n",
       "      fill: #174EA6;\n",
       "    }\n",
       "\n",
       "    [theme=dark] .colab-df-convert {\n",
       "      background-color: #3B4455;\n",
       "      fill: #D2E3FC;\n",
       "    }\n",
       "\n",
       "    [theme=dark] .colab-df-convert:hover {\n",
       "      background-color: #434B5C;\n",
       "      box-shadow: 0px 1px 3px 1px rgba(0, 0, 0, 0.15);\n",
       "      filter: drop-shadow(0px 1px 2px rgba(0, 0, 0, 0.3));\n",
       "      fill: #FFFFFF;\n",
       "    }\n",
       "  </style>\n",
       "\n",
       "      <script>\n",
       "        const buttonEl =\n",
       "          document.querySelector('#df-5ba83d79-8170-4290-abe3-f6c8c4759dbe button.colab-df-convert');\n",
       "        buttonEl.style.display =\n",
       "          google.colab.kernel.accessAllowed ? 'block' : 'none';\n",
       "\n",
       "        async function convertToInteractive(key) {\n",
       "          const element = document.querySelector('#df-5ba83d79-8170-4290-abe3-f6c8c4759dbe');\n",
       "          const dataTable =\n",
       "            await google.colab.kernel.invokeFunction('convertToInteractive',\n",
       "                                                     [key], {});\n",
       "          if (!dataTable) return;\n",
       "\n",
       "          const docLinkHtml = 'Like what you see? Visit the ' +\n",
       "            '<a target=\"_blank\" href=https://colab.research.google.com/notebooks/data_table.ipynb>data table notebook</a>'\n",
       "            + ' to learn more about interactive tables.';\n",
       "          element.innerHTML = '';\n",
       "          dataTable['output_type'] = 'display_data';\n",
       "          await google.colab.output.renderOutput(dataTable, element);\n",
       "          const docLink = document.createElement('div');\n",
       "          docLink.innerHTML = docLinkHtml;\n",
       "          element.appendChild(docLink);\n",
       "        }\n",
       "      </script>\n",
       "    </div>\n",
       "  </div>\n",
       "  "
      ],
      "text/plain": [
       "         is_adult      distance   num_stops  has_loyalty  price_tier  \\\n",
       "count  500.000000    500.000000  500.000000   500.000000  500.000000   \n",
       "mean     0.618000   8747.403760    1.184000     0.482000    1.648000   \n",
       "std      0.486363   4528.947657    0.776757     0.500176    0.562787   \n",
       "min      0.000000    456.500000    0.000000     0.000000    1.000000   \n",
       "25%      0.000000   5244.082500    1.000000     0.000000    1.000000   \n",
       "50%      1.000000   8453.375000    1.000000     0.000000    2.000000   \n",
       "75%      1.000000  12055.837500    2.000000     1.000000    2.000000   \n",
       "max      1.000000  19798.130000    2.000000     1.000000    3.000000   \n",
       "\n",
       "             price  \n",
       "count   500.000000  \n",
       "mean   1441.765270  \n",
       "std     757.230902  \n",
       "min     202.140000  \n",
       "25%     824.817500  \n",
       "50%    1280.715000  \n",
       "75%    1901.637500  \n",
       "max    4711.480000  "
      ]
     },
     "execution_count": 327,
     "metadata": {},
     "output_type": "execute_result"
    }
   ],
   "source": [
    "outlier_data.describe()"
   ]
  },
  {
   "cell_type": "markdown",
   "metadata": {
    "id": "ZHEMm6s5aWvU"
   },
   "source": [
    "To identify the outliers, a boxplot has been plotted to check for the outliers in the price column of the outlier_data. "
   ]
  },
  {
   "cell_type": "code",
   "execution_count": 328,
   "metadata": {
    "colab": {
     "base_uri": "https://localhost:8080/",
     "height": 279
    },
    "id": "FZvHOll9wxqZ",
    "outputId": "9b3a7c63-7480-4ae7-f149-2e8d805ef757"
   },
   "outputs": [
    {
     "data": {
      "image/png": "[encoded data removed]",
      "text/plain": [
       "<Figure size 432x288 with 1 Axes>"
      ]
     },
     "metadata": {
      "needs_background": "light"
     },
     "output_type": "display_data"
    }
   ],
   "source": [
    "plt.boxplot(outlier_data[\"price\"])\n",
    "plt.xlabel(\"Price\")\n",
    "plt.show()"
   ]
  },
  {
   "cell_type": "markdown",
   "metadata": {
    "id": "wNdP2pnJadFe"
   },
   "source": [
    "From the above plot, it is evident that there are outliers in the given data. To rectify it, I have used dist_plot to find the IQR for the price column."
   ]
  },
  {
   "cell_type": "code",
   "execution_count": 329,
   "metadata": {
    "colab": {
     "base_uri": "https://localhost:8080/",
     "height": 297
    },
    "id": "bvqoDh-9w625",
    "outputId": "b555db34-fe3f-435c-a630-721b7cc88b75"
   },
   "outputs": [
    {
     "data": {
      "text/plain": [
       "<matplotlib.axes._subplots.AxesSubplot at 0x7f7dbc127590>"
      ]
     },
     "execution_count": 329,
     "metadata": {},
     "output_type": "execute_result"
    },
    {
     "data": {
      "image/png": "[encoded data removed]",
      "text/plain": [
       "<Figure size 432x288 with 1 Axes>"
      ]
     },
     "metadata": {
      "needs_background": "light"
     },
     "output_type": "display_data"
    }
   ],
   "source": [
    "sns.distplot(outlier_data[\"price\"])"
   ]
  },
  {
   "cell_type": "markdown",
   "metadata": {
    "id": "KqOdPS_PbmkR"
   },
   "source": [
    "From the above plot, it is clear that between the range 4000-5000 in the axis, we can see the outliers in the data. To rectify it, IQR (Inter-Quartile Range)is found. IQR is found using the formula\n",
    "IQ = Q3 - Q1 \n",
    "where Q3 is the 75th percentile and Q1 is the 25th percentile. Using this the upper hinge and lower hinge is found where the data lies."
   ]
  },
  {
   "cell_type": "code",
   "execution_count": 330,
   "metadata": {
    "colab": {
     "base_uri": "https://localhost:8080/"
    },
    "id": "KbNFJr1hw_qE",
    "outputId": "74ad5920-89d0-4d8f-9dca-3147eca3ffb4"
   },
   "outputs": [
    {
     "data": {
      "text/plain": [
       "(1076.8200000000002, -790.4125000000003, 3516.8675000000003)"
      ]
     },
     "execution_count": 330,
     "metadata": {},
     "output_type": "execute_result"
    }
   ],
   "source": [
    "Q1 = outlier_data[\"price\"].quantile(0.25)\n",
    "Q3 = outlier_data[\"price\"].quantile(0.75)\n",
    "IQR = Q3 - Q1\n",
    "lower_hinge = Q1 - 1.5*IQR\n",
    "upper_hinge = Q3 + 1.5*IQR\n",
    "IQR, lower_hinge, upper_hinge"
   ]
  },
  {
   "cell_type": "markdown",
   "metadata": {
    "id": "Sy8jAtYHcZtK"
   },
   "source": [
    "The data that does not lie between the upper hinge and the lower hinge are the outlers of the data. From the below given snippet of the code, 493 values lie between the upper and the lower hingewhich means that 7 values are considered to be outliers in the data. "
   ]
  },
  {
   "cell_type": "code",
   "execution_count": 331,
   "metadata": {
    "colab": {
     "base_uri": "https://localhost:8080/"
    },
    "id": "Z5CAuWhGxS_j",
    "outputId": "ec3c291e-2bc1-461c-c5d9-d06ab7c31fe6"
   },
   "outputs": [
    {
     "data": {
      "text/plain": [
       "(493, 15)"
      ]
     },
     "execution_count": 331,
     "metadata": {},
     "output_type": "execute_result"
    }
   ],
   "source": [
    "outlier_data = outlier_data[(outlier_data[\"price\"] < upper_hinge) & (outlier_data[\"price\"] > lower_hinge)]\n",
    "outlier_data.shape"
   ]
  },
  {
   "cell_type": "markdown",
   "metadata": {
    "id": "Mh1qSeLic7LW"
   },
   "source": [
    "On plotting ony the data that lies between the upper and lower hinge (omitting the outliers) a distplot is plotted using the seaborn library. "
   ]
  },
  {
   "cell_type": "code",
   "execution_count": 332,
   "metadata": {
    "colab": {
     "base_uri": "https://localhost:8080/",
     "height": 297
    },
    "id": "sXzBvlC1x1Q_",
    "outputId": "0461356f-89a6-436f-f0d8-4b2c815ce5ae"
   },
   "outputs": [
    {
     "data": {
      "text/plain": [
       "<matplotlib.axes._subplots.AxesSubplot at 0x7f7db94a1f10>"
      ]
     },
     "execution_count": 332,
     "metadata": {},
     "output_type": "execute_result"
    },
    {
     "data": {
      "image/png": "[encoded data removed]",
      "text/plain": [
       "<Figure size 432x288 with 1 Axes>"
      ]
     },
     "metadata": {
      "needs_background": "light"
     },
     "output_type": "display_data"
    }
   ],
   "source": [
    "sns.distplot(outlier_data[\"price\"])"
   ]
  },
  {
   "cell_type": "markdown",
   "metadata": {
    "id": "FLTSE-d_dH5X"
   },
   "source": [
    "From the above graph, it is clear that the outliers (assume after 3500) on the X-axis are no longer visible. This proves that the outliers are removed. To showcase this, a boxplot is used."
   ]
  },
  {
   "cell_type": "code",
   "execution_count": 333,
   "metadata": {
    "colab": {
     "base_uri": "https://localhost:8080/",
     "height": 279
    },
    "id": "NDUqmqdfx9tK",
    "outputId": "15d4500b-134e-41ad-a4d9-1939afd531a8"
   },
   "outputs": [
    {
     "data": {
      "image/png": "[encoded data removed]",
      "text/plain": [
       "<Figure size 432x288 with 1 Axes>"
      ]
     },
     "metadata": {
      "needs_background": "light"
     },
     "output_type": "display_data"
    }
   ],
   "source": [
    "plt.boxplot(outlier_data[\"price\"])\n",
    "plt.xlabel(\"Price\")\n",
    "plt.show()"
   ]
  },
  {
   "cell_type": "markdown",
   "metadata": {
    "id": "zPwaZUmfdeYa"
   },
   "source": [
    "Once this is done, the data is written into a file named outlier_solution that contains data without any outliers. "
   ]
  },
  {
   "cell_type": "code",
   "execution_count": 334,
   "metadata": {
    "id": "lDeyEgqW3cHG"
   },
   "outputs": [],
   "source": [
    "outlier_data.to_csv(\"/content/drive/MyDrive/dw_assignment2_output/32263546_outlier_solution.csv\", index = False)"
   ]
  },
  {
   "cell_type": "markdown",
   "metadata": {
    "id": "nfGIVP3wdpj9"
   },
   "source": [
    "Thus EDA for the dirty_data, missing_data and the outlier_data is done and we have a clean data that can be further used for further analysis purposes. "
   ]
  },
  {
   "cell_type": "markdown",
   "metadata": {
    "id": "Qyj3aFayd1ko"
   },
   "source": [
    "#References\n",
    "Tutorial solutions of week 6,7,8\n",
    "*   Matplotlib — Visualization with Python. (2022). Retrieved 9 May 2022, from https://matplotlib.org/\n",
    "*   Multiple Linear Regression using Python. (2022). Retrieved 9 May 2022, from https://www.analyticsvidhya.com/blog/2022/03/multiple-linear-regression-using-python/\n",
    "*   Program for distance between two points on earth - GeeksforGeeks. (2022). Retrieved 9 May 2022, from https://www.geeksforgeeks.org/program-distance-two-points-earth/\n",
    "*   seaborn: statistical data visualization — seaborn 0.11.2 documentation. (2022). Retrieved 9 May 2022, from https://seaborn.pydata.org/\n",
    "\n",
    "\n",
    "\n"
   ]
  }
 ],
 "metadata": {
  "colab": {
   "collapsed_sections": [],
   "name": "32263546_ass2.ipynb",
   "provenance": []
  },
  "kernelspec": {
   "display_name": "Python 3",
   "language": "python",
   "name": "python3"
  },
  "language_info": {
   "codemirror_mode": {
    "name": "ipython",
    "version": 3
   },
   "file_extension": ".py",
   "mimetype": "text/x-python",
   "name": "python",
   "nbconvert_exporter": "python",
   "pygments_lexer": "ipython3",
   "version": "3.8.8"
  }
 },
 "nbformat": 4,
 "nbformat_minor": 1
}
